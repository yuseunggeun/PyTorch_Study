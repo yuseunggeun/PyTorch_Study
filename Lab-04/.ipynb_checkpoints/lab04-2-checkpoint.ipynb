{
 "cells": [
  {
   "cell_type": "markdown",
   "id": "dccdc770",
   "metadata": {},
   "source": [
    "# lab04-2 code"
   ]
  },
  {
   "cell_type": "code",
   "execution_count": 1,
   "id": "bd2aa3a4",
   "metadata": {},
   "outputs": [],
   "source": [
    "import numpy as np"
   ]
  },
  {
   "cell_type": "code",
   "execution_count": 2,
   "id": "2509217b",
   "metadata": {},
   "outputs": [
    {
     "name": "stdout",
     "output_type": "stream",
     "text": [
      "[[ 1  2  3  4]\n",
      " [ 5  6  7  8]\n",
      " [ 9 10 11 12]]\n"
     ]
    }
   ],
   "source": [
    "b = np.array([[1, 2, 3, 4], [5, 6, 7, 8], [9, 10, 11, 12]])\n",
    "print(b)"
   ]
  },
  {
   "cell_type": "code",
   "execution_count": 3,
   "id": "7633b03f",
   "metadata": {},
   "outputs": [
    {
     "data": {
      "text/plain": [
       "array([ 2,  6, 10])"
      ]
     },
     "execution_count": 3,
     "metadata": {},
     "output_type": "execute_result"
    }
   ],
   "source": [
    "b[:, 1]"
   ]
  },
  {
   "cell_type": "code",
   "execution_count": 4,
   "id": "b9e3f683",
   "metadata": {},
   "outputs": [
    {
     "data": {
      "text/plain": [
       "array([ 9, 10, 11, 12])"
      ]
     },
     "execution_count": 4,
     "metadata": {},
     "output_type": "execute_result"
    }
   ],
   "source": [
    "b[-1]"
   ]
  },
  {
   "cell_type": "code",
   "execution_count": 5,
   "id": "ad3b6a99",
   "metadata": {},
   "outputs": [
    {
     "data": {
      "text/plain": [
       "array([ 9, 10, 11, 12])"
      ]
     },
     "execution_count": 5,
     "metadata": {},
     "output_type": "execute_result"
    }
   ],
   "source": [
    "b[-1, :]"
   ]
  },
  {
   "cell_type": "code",
   "execution_count": 6,
   "id": "67294864",
   "metadata": {},
   "outputs": [
    {
     "data": {
      "text/plain": [
       "array([ 9, 10, 11, 12])"
      ]
     },
     "execution_count": 6,
     "metadata": {},
     "output_type": "execute_result"
    }
   ],
   "source": [
    "b[-1, ...]"
   ]
  },
  {
   "cell_type": "code",
   "execution_count": 7,
   "id": "f3433eb7",
   "metadata": {},
   "outputs": [
    {
     "data": {
      "text/plain": [
       "array([[1, 2, 3, 4],\n",
       "       [5, 6, 7, 8]])"
      ]
     },
     "execution_count": 7,
     "metadata": {},
     "output_type": "execute_result"
    }
   ],
   "source": [
    "b[0:2, :]"
   ]
  },
  {
   "cell_type": "markdown",
   "id": "6e0edab4",
   "metadata": {},
   "source": [
    "## load data from csv file"
   ]
  },
  {
   "cell_type": "code",
   "execution_count": 8,
   "id": "ad358153",
   "metadata": {},
   "outputs": [],
   "source": [
    "xy = np.loadtxt('data-01-test-score.csv', delimiter=',', dtype=np.float32)"
   ]
  },
  {
   "cell_type": "code",
   "execution_count": 9,
   "id": "c3ce02ee",
   "metadata": {},
   "outputs": [],
   "source": [
    "x_data = xy[:, 0:-1]\n",
    "y_data = xy[:, [-1]]"
   ]
  },
  {
   "cell_type": "code",
   "execution_count": 10,
   "id": "62de2048",
   "metadata": {},
   "outputs": [
    {
     "name": "stdout",
     "output_type": "stream",
     "text": [
      "(25, 3)\n",
      "25\n",
      "[[ 73.  80.  75.]\n",
      " [ 93.  88.  93.]\n",
      " [ 89.  91.  90.]\n",
      " [ 96.  98. 100.]\n",
      " [ 73.  66.  70.]]\n"
     ]
    }
   ],
   "source": [
    "print(x_data.shape) # x_data shape\n",
    "print(len(x_data))  # x_data 길이\n",
    "print(x_data[:5])   # 첫 다섯 개"
   ]
  },
  {
   "cell_type": "code",
   "execution_count": 11,
   "id": "0c2f1490",
   "metadata": {},
   "outputs": [
    {
     "name": "stdout",
     "output_type": "stream",
     "text": [
      "(25, 1)\n",
      "25\n",
      "[[152.]\n",
      " [185.]\n",
      " [180.]\n",
      " [196.]\n",
      " [142.]]\n"
     ]
    }
   ],
   "source": [
    "print(y_data.shape) # y_data shape\n",
    "print(len(y_data))  # y_data 길이\n",
    "print(y_data[:5])   # 첫 다섯 개"
   ]
  },
  {
   "cell_type": "code",
   "execution_count": 12,
   "id": "0d3a6005",
   "metadata": {},
   "outputs": [],
   "source": [
    "import torch\n",
    "import torch.nn as nn\n",
    "import torch.nn.functional as F\n",
    "import torch.optim as optim"
   ]
  },
  {
   "cell_type": "code",
   "execution_count": 13,
   "id": "92ba9f0e",
   "metadata": {},
   "outputs": [
    {
     "data": {
      "text/plain": [
       "<torch._C.Generator at 0x26252ac71f8>"
      ]
     },
     "execution_count": 13,
     "metadata": {},
     "output_type": "execute_result"
    }
   ],
   "source": [
    "torch.manual_seed(1)"
   ]
  },
  {
   "cell_type": "code",
   "execution_count": 14,
   "id": "97ad1886",
   "metadata": {},
   "outputs": [
    {
     "name": "stdout",
     "output_type": "stream",
     "text": [
      "Epoch    0/20 Cost: 26811.960938\n",
      "Epoch    1/20 Cost: 9920.530273\n",
      "Epoch    2/20 Cost: 3675.298828\n",
      "Epoch    3/20 Cost: 1366.260498\n",
      "Epoch    4/20 Cost: 512.542419\n",
      "Epoch    5/20 Cost: 196.896622\n",
      "Epoch    6/20 Cost: 80.190987\n",
      "Epoch    7/20 Cost: 37.038692\n",
      "Epoch    8/20 Cost: 21.081335\n",
      "Epoch    9/20 Cost: 15.178760\n",
      "Epoch   10/20 Cost: 12.993677\n",
      "Epoch   11/20 Cost: 12.183030\n",
      "Epoch   12/20 Cost: 11.880535\n",
      "Epoch   13/20 Cost: 11.765964\n",
      "Epoch   14/20 Cost: 11.720856\n",
      "Epoch   15/20 Cost: 11.701438\n",
      "Epoch   16/20 Cost: 11.691510\n",
      "Epoch   17/20 Cost: 11.685122\n",
      "Epoch   18/20 Cost: 11.680007\n",
      "Epoch   19/20 Cost: 11.675372\n",
      "Epoch   20/20 Cost: 11.670942\n"
     ]
    }
   ],
   "source": [
    "x_train = torch.FloatTensor(x_data)\n",
    "y_train = torch.FloatTensor(y_data)\n",
    "\n",
    "W = torch.zeros((3, 1), requires_grad=True)\n",
    "b = torch.zeros(1, requires_grad=True)\n",
    "\n",
    "optimizer = optim.SGD([W, b], lr=1e-5)\n",
    "\n",
    "nb_epochs = 20\n",
    "for epoch in range(nb_epochs + 1):\n",
    "    \n",
    "    hypothesis = x_train.matmul(W) + b # or .mm or @\n",
    "\n",
    "    cost = torch.mean((hypothesis - y_train) ** 2)\n",
    "\n",
    "    optimizer.zero_grad()\n",
    "    cost.backward()\n",
    "    optimizer.step()\n",
    "\n",
    "    print('Epoch {:4d}/{} Cost: {:.6f}'.format(\n",
    "        epoch, nb_epochs, cost.item()\n",
    "    ))"
   ]
  },
  {
   "cell_type": "markdown",
   "id": "d756fb76",
   "metadata": {},
   "source": [
    "## dataset"
   ]
  },
  {
   "cell_type": "code",
   "execution_count": 15,
   "id": "cb797498",
   "metadata": {},
   "outputs": [],
   "source": [
    "from torch.utils.data import Dataset"
   ]
  },
  {
   "cell_type": "code",
   "execution_count": 17,
   "id": "0ccef0c7",
   "metadata": {},
   "outputs": [],
   "source": [
    "class CustomDataset(Dataset): \n",
    "    def __init__(self):\n",
    "        self.x_data = [[73, 80, 75],\n",
    "                       [93, 88, 93],\n",
    "                       [89, 91, 90],\n",
    "                       [96, 98, 100],\n",
    "                       [73, 66, 70]]\n",
    "        self.y_data = [[152], [185], [180], [196], [142]]\n",
    "\n",
    "    def __len__(self): #data개수\n",
    "        return len(self.x_data)\n",
    "\n",
    "    def __getitem__(self, idx): # 인덱스 입력받아 그에 맞는 입출력 데이터를 Tensor로 리턴\n",
    "        x = torch.FloatTensor(self.x_data[idx])\n",
    "        y = torch.FloatTensor(self.y_data[idx])\n",
    "        return x, y"
   ]
  },
  {
   "cell_type": "code",
   "execution_count": 18,
   "id": "00591208",
   "metadata": {},
   "outputs": [],
   "source": [
    "dataset = CustomDataset()"
   ]
  },
  {
   "cell_type": "markdown",
   "id": "ecf26e87",
   "metadata": {},
   "source": [
    "## dataloader"
   ]
  },
  {
   "cell_type": "code",
   "execution_count": 19,
   "id": "2da9d32b",
   "metadata": {},
   "outputs": [],
   "source": [
    "from torch.utils.data import DataLoader"
   ]
  },
  {
   "cell_type": "code",
   "execution_count": 20,
   "id": "801a73bc",
   "metadata": {},
   "outputs": [],
   "source": [
    "dataloader = DataLoader(dataset, batch_size=2, shuffle=True) #shuffle=학습순서변경"
   ]
  },
  {
   "cell_type": "code",
   "execution_count": 25,
   "id": "d5c53e4a",
   "metadata": {},
   "outputs": [
    {
     "name": "stdout",
     "output_type": "stream",
     "text": [
      "Epoch    0/20 Batch 1/3 Cost: 20278.720703\n",
      "Epoch    0/20 Batch 2/3 Cost: 7427.986328\n",
      "Epoch    0/20 Batch 3/3 Cost: 1561.607056\n",
      "Epoch    1/20 Batch 1/3 Cost: 647.595093\n",
      "Epoch    1/20 Batch 2/3 Cost: 242.359955\n",
      "Epoch    1/20 Batch 3/3 Cost: 79.836090\n",
      "Epoch    2/20 Batch 1/3 Cost: 26.838402\n",
      "Epoch    2/20 Batch 2/3 Cost: 3.010582\n",
      "Epoch    2/20 Batch 3/3 Cost: 2.581892\n",
      "Epoch    3/20 Batch 1/3 Cost: 0.592217\n",
      "Epoch    3/20 Batch 2/3 Cost: 0.562889\n",
      "Epoch    3/20 Batch 3/3 Cost: 9.701928\n",
      "Epoch    4/20 Batch 1/3 Cost: 1.719886\n",
      "Epoch    4/20 Batch 2/3 Cost: 3.070674\n",
      "Epoch    4/20 Batch 3/3 Cost: 2.253847\n",
      "Epoch    5/20 Batch 1/3 Cost: 3.844807\n",
      "Epoch    5/20 Batch 2/3 Cost: 0.077713\n",
      "Epoch    5/20 Batch 3/3 Cost: 1.604550\n",
      "Epoch    6/20 Batch 1/3 Cost: 0.157415\n",
      "Epoch    6/20 Batch 2/3 Cost: 0.790989\n",
      "Epoch    6/20 Batch 3/3 Cost: 9.128262\n",
      "Epoch    7/20 Batch 1/3 Cost: 0.551075\n",
      "Epoch    7/20 Batch 2/3 Cost: 1.745896\n",
      "Epoch    7/20 Batch 3/3 Cost: 7.641172\n",
      "Epoch    8/20 Batch 1/3 Cost: 1.882972\n",
      "Epoch    8/20 Batch 2/3 Cost: 2.806770\n",
      "Epoch    8/20 Batch 3/3 Cost: 2.788945\n",
      "Epoch    9/20 Batch 1/3 Cost: 3.949769\n",
      "Epoch    9/20 Batch 2/3 Cost: 0.720058\n",
      "Epoch    9/20 Batch 3/3 Cost: 0.007182\n",
      "Epoch   10/20 Batch 1/3 Cost: 0.641952\n",
      "Epoch   10/20 Batch 2/3 Cost: 0.207004\n",
      "Epoch   10/20 Batch 3/3 Cost: 8.155619\n",
      "Epoch   11/20 Batch 1/3 Cost: 3.068735\n",
      "Epoch   11/20 Batch 2/3 Cost: 3.136216\n",
      "Epoch   11/20 Batch 3/3 Cost: 0.570839\n",
      "Epoch   12/20 Batch 1/3 Cost: 0.868101\n",
      "Epoch   12/20 Batch 2/3 Cost: 3.430048\n",
      "Epoch   12/20 Batch 3/3 Cost: 1.751010\n",
      "Epoch   13/20 Batch 1/3 Cost: 3.710308\n",
      "Epoch   13/20 Batch 2/3 Cost: 1.861773\n",
      "Epoch   13/20 Batch 3/3 Cost: 0.099390\n",
      "Epoch   14/20 Batch 1/3 Cost: 0.015233\n",
      "Epoch   14/20 Batch 2/3 Cost: 1.010633\n",
      "Epoch   14/20 Batch 3/3 Cost: 8.576544\n",
      "Epoch   15/20 Batch 1/3 Cost: 1.735540\n",
      "Epoch   15/20 Batch 2/3 Cost: 0.728471\n",
      "Epoch   15/20 Batch 3/3 Cost: 7.016242\n",
      "Epoch   16/20 Batch 1/3 Cost: 2.195718\n",
      "Epoch   16/20 Batch 2/3 Cost: 2.591258\n",
      "Epoch   16/20 Batch 3/3 Cost: 2.488553\n",
      "Epoch   17/20 Batch 1/3 Cost: 0.630512\n",
      "Epoch   17/20 Batch 2/3 Cost: 0.202413\n",
      "Epoch   17/20 Batch 3/3 Cost: 8.073208\n",
      "Epoch   18/20 Batch 1/3 Cost: 1.924477\n",
      "Epoch   18/20 Batch 2/3 Cost: 2.953283\n",
      "Epoch   18/20 Batch 3/3 Cost: 2.707395\n",
      "Epoch   19/20 Batch 1/3 Cost: 0.687093\n",
      "Epoch   19/20 Batch 2/3 Cost: 3.838907\n",
      "Epoch   19/20 Batch 3/3 Cost: 1.607064\n",
      "Epoch   20/20 Batch 1/3 Cost: 0.207491\n",
      "Epoch   20/20 Batch 2/3 Cost: 4.401663\n",
      "Epoch   20/20 Batch 3/3 Cost: 0.001752\n"
     ]
    }
   ],
   "source": [
    "nb_epochs = 20\n",
    "\n",
    "model = torch.nn.Linear(3,1)\n",
    "optimizer = torch.optim.SGD(model.parameters(), lr=1e-5) \n",
    "\n",
    "for epoch in range(nb_epochs + 1):\n",
    "    for batch_idx, samples in enumerate(dataloader):\n",
    "        \n",
    "        x_train, y_train = samples\n",
    "        \n",
    "        prediction = model(x_train)\n",
    "\n",
    "        cost = F.mse_loss(prediction, y_train)\n",
    "\n",
    "        optimizer.zero_grad()\n",
    "        cost.backward()\n",
    "        optimizer.step()\n",
    "\n",
    "        print('Epoch {:4d}/{} Batch {}/{} Cost: {:.6f}'.format(\n",
    "            epoch, nb_epochs, batch_idx+1, len(dataloader),\n",
    "            cost.item()\n",
    "        ))"
   ]
  }
 ],
 "metadata": {
  "kernelspec": {
   "display_name": "Python 3 (ipykernel)",
   "language": "python",
   "name": "python3"
  },
  "language_info": {
   "codemirror_mode": {
    "name": "ipython",
    "version": 3
   },
   "file_extension": ".py",
   "mimetype": "text/x-python",
   "name": "python",
   "nbconvert_exporter": "python",
   "pygments_lexer": "ipython3",
   "version": "3.7.1"
  }
 },
 "nbformat": 4,
 "nbformat_minor": 5
}
