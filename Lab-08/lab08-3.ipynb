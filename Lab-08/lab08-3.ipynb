{
 "cells": [
  {
   "cell_type": "markdown",
   "id": "2a537cb0",
   "metadata": {},
   "source": [
    "# lab08-3 code"
   ]
  },
  {
   "cell_type": "code",
   "execution_count": 1,
   "id": "1732dce1",
   "metadata": {},
   "outputs": [],
   "source": [
    "import torch"
   ]
  },
  {
   "cell_type": "code",
   "execution_count": 2,
   "id": "88f045bc",
   "metadata": {},
   "outputs": [],
   "source": [
    "device = 'cuda' if torch.cuda.is_available() else 'cpu'\n",
    "\n",
    "torch.manual_seed(777)\n",
    "if device == 'cuda':\n",
    "    torch.cuda.manual_seed_all(777)"
   ]
  },
  {
   "cell_type": "code",
   "execution_count": 3,
   "id": "05c8e51a",
   "metadata": {},
   "outputs": [],
   "source": [
    "X = torch.FloatTensor([[0, 0], [0, 1], [1, 0], [1, 1]]).to(device)\n",
    "Y = torch.FloatTensor([[0], [1], [1], [0]]).to(device)"
   ]
  },
  {
   "cell_type": "code",
   "execution_count": 4,
   "id": "b6744cbc",
   "metadata": {},
   "outputs": [],
   "source": [
    "linear1 = torch.nn.Linear(2, 10, bias=True) #input -> hidden1\n",
    "linear2 = torch.nn.Linear(10, 10, bias=True) #hidden1 -> hidden2\n",
    "linear3 = torch.nn.Linear(10, 10, bias=True) #hidden2 -> hidden3\n",
    "linear4 = torch.nn.Linear(10, 1, bias=True) #hidden3 -> output\n",
    "sigmoid = torch.nn.Sigmoid()"
   ]
  },
  {
   "cell_type": "code",
   "execution_count": 5,
   "id": "952d0ff2",
   "metadata": {},
   "outputs": [],
   "source": [
    "model = torch.nn.Sequential(linear1, sigmoid, linear2, sigmoid, linear3, sigmoid, linear4, sigmoid).to(device)"
   ]
  },
  {
   "cell_type": "code",
   "execution_count": 6,
   "id": "7e6d108d",
   "metadata": {},
   "outputs": [],
   "source": [
    "criterion = torch.nn.BCELoss().to(device)\n",
    "optimizer = torch.optim.SGD(model.parameters(), lr=1)"
   ]
  },
  {
   "cell_type": "code",
   "execution_count": 7,
   "id": "10a1ade5",
   "metadata": {},
   "outputs": [
    {
     "name": "stdout",
     "output_type": "stream",
     "text": [
      "0 0.6948983669281006\n",
      "100 0.693155825138092\n",
      "200 0.6931535005569458\n",
      "300 0.6931514143943787\n",
      "400 0.6931492686271667\n",
      "500 0.6931473612785339\n",
      "600 0.6931453943252563\n",
      "700 0.6931434869766235\n",
      "800 0.6931415796279907\n",
      "900 0.6931397914886475\n",
      "1000 0.6931380033493042\n",
      "1100 0.6931361556053162\n",
      "1200 0.6931343078613281\n",
      "1300 0.6931324005126953\n",
      "1400 0.6931304931640625\n",
      "1500 0.6931284666061401\n",
      "1600 0.6931264400482178\n",
      "1700 0.6931242942810059\n",
      "1800 0.6931220293045044\n",
      "1900 0.6931196451187134\n",
      "2000 0.6931171417236328\n",
      "2100 0.6931145191192627\n",
      "2200 0.6931116580963135\n",
      "2300 0.6931085586547852\n",
      "2400 0.6931051015853882\n",
      "2500 0.6931014657020569\n",
      "2600 0.6930974721908569\n",
      "2700 0.6930930018424988\n",
      "2800 0.6930880546569824\n",
      "2900 0.6930825710296631\n",
      "3000 0.6930763125419617\n",
      "3100 0.6930692791938782\n",
      "3200 0.6930611729621887\n",
      "3300 0.6930519342422485\n",
      "3400 0.6930411458015442\n",
      "3500 0.693028450012207\n",
      "3600 0.6930133104324341\n",
      "3700 0.6929951906204224\n",
      "3800 0.6929729580879211\n",
      "3900 0.6929453015327454\n",
      "4000 0.6929103136062622\n",
      "4100 0.6928650140762329\n",
      "4200 0.6928046941757202\n",
      "4300 0.692721962928772\n",
      "4400 0.6926040649414062\n",
      "4500 0.6924278736114502\n",
      "4600 0.6921480894088745\n",
      "4700 0.6916665434837341\n",
      "4800 0.6907395124435425\n",
      "4900 0.688620388507843\n",
      "5000 0.6820821762084961\n",
      "5100 0.6472553014755249\n",
      "5200 0.4530373215675354\n",
      "5300 0.042051173746585846\n",
      "5400 0.00978634413331747\n",
      "5500 0.005048715975135565\n",
      "5600 0.0033022866118699312\n",
      "5700 0.002419235883280635\n",
      "5800 0.0018934670370072126\n",
      "5900 0.0015473972307518125\n",
      "6000 0.0013036272721365094\n",
      "6100 0.0011232906254008412\n",
      "6200 0.0009848718764260411\n",
      "6300 0.0008754815207794309\n",
      "6400 0.0007869820110499859\n",
      "6500 0.0007140140514820814\n",
      "6600 0.0006529059028252959\n",
      "6700 0.0006010013166815042\n",
      "6800 0.0005563903832808137\n",
      "6900 0.0005177152925170958\n",
      "7000 0.00048379763029515743\n",
      "7100 0.0004539361398201436\n",
      "7200 0.0004273552622180432\n",
      "7300 0.00040359259583055973\n",
      "7400 0.0003822603903245181\n",
      "7500 0.0003629559651017189\n",
      "7600 0.0003454257675912231\n",
      "7700 0.0003294461639598012\n",
      "7800 0.00031480833422392607\n",
      "7900 0.00030137813882902265\n",
      "8000 0.0002890063915401697\n",
      "8100 0.0002775738830678165\n",
      "8200 0.0002669761888682842\n",
      "8300 0.00025710894260555506\n",
      "8400 0.00024792744079604745\n",
      "8500 0.00023934218916110694\n",
      "8600 0.00023135324590839446\n",
      "8700 0.00022378168068826199\n",
      "8800 0.00021674671734217554\n",
      "8900 0.00021008442854508758\n",
      "9000 0.0002038097009062767\n",
      "9100 0.00019787781639024615\n",
      "9200 0.00019227384473197162\n",
      "9300 0.0001869828993221745\n",
      "9400 0.00018196026212535799\n",
      "9500 0.00017717608716338873\n",
      "9600 0.0001726304180920124\n",
      "9700 0.0001683083246462047\n",
      "9800 0.00016419489111285657\n",
      "9900 0.0001602603297214955\n",
      "10000 0.00015648972475901246\n"
     ]
    }
   ],
   "source": [
    "for step in range(10001):\n",
    "    optimizer.zero_grad()\n",
    "    hypothesis = model(X)\n",
    "\n",
    "    # cost/loss function\n",
    "    cost = criterion(hypothesis, Y)\n",
    "    cost.backward()\n",
    "    optimizer.step()\n",
    "\n",
    "    if step % 100 == 0:\n",
    "        print(step, cost.item())"
   ]
  },
  {
   "cell_type": "code",
   "execution_count": 8,
   "id": "07f955c8",
   "metadata": {},
   "outputs": [
    {
     "name": "stdout",
     "output_type": "stream",
     "text": [
      "\n",
      "Hypothesis:  [[1.11691515e-04]\n",
      " [9.99828815e-01]\n",
      " [9.99842286e-01]\n",
      " [1.85273253e-04]] \n",
      "Correct:  [[0.]\n",
      " [1.]\n",
      " [1.]\n",
      " [0.]] \n",
      "Accuracy:  1.0\n"
     ]
    }
   ],
   "source": [
    "with torch.no_grad():\n",
    "    hypothesis = model(X)\n",
    "    predicted = (hypothesis > 0.5).float()\n",
    "    accuracy = (predicted == Y).float().mean()\n",
    "    print('\\nHypothesis: ', hypothesis.detach().cpu().numpy(), '\\nCorrect: ', predicted.detach().cpu().numpy(), '\\nAccuracy: ', accuracy.item())"
   ]
  }
 ],
 "metadata": {
  "kernelspec": {
   "display_name": "Python 3 (ipykernel)",
   "language": "python",
   "name": "python3"
  },
  "language_info": {
   "codemirror_mode": {
    "name": "ipython",
    "version": 3
   },
   "file_extension": ".py",
   "mimetype": "text/x-python",
   "name": "python",
   "nbconvert_exporter": "python",
   "pygments_lexer": "ipython3",
   "version": "3.7.1"
  }
 },
 "nbformat": 4,
 "nbformat_minor": 5
}
